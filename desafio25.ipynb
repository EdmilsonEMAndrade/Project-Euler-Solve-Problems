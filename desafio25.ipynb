{
  "nbformat": 4,
  "nbformat_minor": 0,
  "metadata": {
    "colab": {
      "name": "desafio25.ipynb",
      "provenance": [],
      "authorship_tag": "ABX9TyMhjLoOnCvShlmFaRz4B3hn",
      "include_colab_link": true
    },
    "kernelspec": {
      "name": "python3",
      "display_name": "Python 3"
    }
  },
  "cells": [
    {
      "cell_type": "markdown",
      "metadata": {
        "id": "view-in-github",
        "colab_type": "text"
      },
      "source": [
        "<a href=\"https://colab.research.google.com/github/EdmilsonEMAndrade/Project-Euler-Solve-Problems/blob/master/desafio25.ipynb\" target=\"_parent\"><img src=\"https://colab.research.google.com/assets/colab-badge.svg\" alt=\"Open In Colab\"/></a>"
      ]
    },
    {
      "cell_type": "code",
      "metadata": {
        "id": "zb0Toc0ogLNb",
        "colab_type": "code",
        "colab": {}
      },
      "source": [
        "\"\"\"\n",
        "The Fibonacci sequence is defined by the recurrence relation:\n",
        "\n",
        "Fn = Fn−1 + Fn−2, where F1 = 1 and F2 = 1.\n",
        "Hence the first 12 terms will be:\n",
        "\n",
        "F1 = 1\n",
        "F2 = 1\n",
        "F3 = 2\n",
        "F4 = 3\n",
        "F5 = 5\n",
        "F6 = 8\n",
        "F7 = 13\n",
        "F8 = 21\n",
        "F9 = 34\n",
        "F10 = 55\n",
        "F11 = 89\n",
        "F12 = 144\n",
        "The 12th term, F12, is the first term to contain three digits.\n",
        "\n",
        "What is the index of the first term in the Fibonacci sequence to contain 1000 digits?\n",
        "\"\"\""
      ],
      "execution_count": null,
      "outputs": []
    },
    {
      "cell_type": "code",
      "metadata": {
        "id": "jUju4nHmdwq5",
        "colab_type": "code",
        "colab": {}
      },
      "source": [
        "def fibonacci(tamanho):\n",
        "  f1 = 1\n",
        "  f2 = 1\n",
        "  fn = 0\n",
        "  contador = 3\n",
        "  while True:\n",
        "    fn = f1 + f2\n",
        "    f1 = f2\n",
        "    f2 = fn\n",
        "    if len(str(fn))>=tamanho:\n",
        "      return contador\n",
        "    contador +=1\n",
        "    "
      ],
      "execution_count": 8,
      "outputs": []
    },
    {
      "cell_type": "code",
      "metadata": {
        "id": "a2x3peH2fm8K",
        "colab_type": "code",
        "colab": {
          "base_uri": "https://localhost:8080/",
          "height": 33
        },
        "outputId": "8937b969-5eab-42d2-c140-a88509bad0ad"
      },
      "source": [
        "fibonacci(1000)"
      ],
      "execution_count": 9,
      "outputs": [
        {
          "output_type": "execute_result",
          "data": {
            "text/plain": [
              "4782"
            ]
          },
          "metadata": {
            "tags": []
          },
          "execution_count": 9
        }
      ]
    }
  ]
}