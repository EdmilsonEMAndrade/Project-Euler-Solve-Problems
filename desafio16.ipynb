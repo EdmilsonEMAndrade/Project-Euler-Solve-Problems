{
  "nbformat": 4,
  "nbformat_minor": 0,
  "metadata": {
    "colab": {
      "name": "desafio16",
      "provenance": [],
      "authorship_tag": "ABX9TyMhnzXgPArL32ROvMZkURC7",
      "include_colab_link": true
    },
    "kernelspec": {
      "name": "python3",
      "display_name": "Python 3"
    }
  },
  "cells": [
    {
      "cell_type": "markdown",
      "metadata": {
        "id": "view-in-github",
        "colab_type": "text"
      },
      "source": [
        "<a href=\"https://colab.research.google.com/github/EdmilsonEMAndrade/Projeto-Euler/blob/master/desafio16.ipynb\" target=\"_parent\"><img src=\"https://colab.research.google.com/assets/colab-badge.svg\" alt=\"Open In Colab\"/></a>"
      ]
    },
    {
      "cell_type": "code",
      "metadata": {
        "id": "bv8NyEyiruml",
        "colab_type": "code",
        "colab": {}
      },
      "source": [
        "def sumDigits(base,expo):\n",
        "  numStr = str(base**expo)\n",
        "  sum = 0\n",
        "\n",
        "  for i in range (len(trans)):\n",
        "    sum += int(trans[i])\n",
        "\n",
        "  return sum\n"
      ],
      "execution_count": 5,
      "outputs": []
    },
    {
      "cell_type": "code",
      "metadata": {
        "id": "DwbfoM_3seBK",
        "colab_type": "code",
        "colab": {
          "base_uri": "https://localhost:8080/",
          "height": 34
        },
        "outputId": "d0806ea0-0e82-4e13-83d8-153b149cca3a"
      },
      "source": [
        "print(sumDigits(2,1000))"
      ],
      "execution_count": 6,
      "outputs": [
        {
          "output_type": "stream",
          "text": [
            "1366\n"
          ],
          "name": "stdout"
        }
      ]
    }
  ]
}