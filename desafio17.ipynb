{
  "nbformat": 4,
  "nbformat_minor": 0,
  "metadata": {
    "colab": {
      "name": "desafio17",
      "provenance": [],
      "authorship_tag": "ABX9TyPUQrJJwIKmaDkGzdvGthdd",
      "include_colab_link": true
    },
    "kernelspec": {
      "name": "python3",
      "display_name": "Python 3"
    }
  },
  "cells": [
    {
      "cell_type": "markdown",
      "metadata": {
        "id": "view-in-github",
        "colab_type": "text"
      },
      "source": [
        "<a href=\"https://colab.research.google.com/github/EdmilsonEMAndrade/Projeto-Euler/blob/master/desafio17.ipynb\" target=\"_parent\"><img src=\"https://colab.research.google.com/assets/colab-badge.svg\" alt=\"Open In Colab\"/></a>"
      ]
    },
    {
      "cell_type": "code",
      "metadata": {
        "id": "utrtm3uNOmll",
        "colab_type": "code",
        "colab": {}
      },
      "source": [
        "def writeNumtwoDig(num):\n",
        "    numStr = str(num)\n",
        "    escreveNum = \"\"\n",
        "    listaNum = [\"\", \"one\", \"two\", \"three\", \"four\", \"five\", \"six\", \"seven\", \"eight\", \"nine\",\n",
        "                \"ten\", \"eleven\", \"twelve\", \"thirteen\", \"fourteen\", \"fifteen\",\n",
        "                \"twenty\", \"thirty\", \"forty\", \"fifty\"]\n",
        "    if len(numStr) < 2:\n",
        "        escreveNum += listaNum[num]\n",
        "    elif len(numStr) < 3:\n",
        "        if num >=10 and num<=15:\n",
        "            escreveNum += listaNum[num]\n",
        "        elif num< 20 and num>15:\n",
        "            if num == 18:\n",
        "              escreveNum += listaNum[int(numStr[1])]+\"een\"\n",
        "            else:\n",
        "              escreveNum += listaNum[int(numStr[1])]+\"teen\"\n",
        "        elif num < 30:\n",
        "            escreveNum += listaNum[16]+listaNum[int(numStr[1])]\n",
        "        elif num < 40:\n",
        "            escreveNum += listaNum[17] + listaNum[int(numStr[1])]\n",
        "        elif num < 50:\n",
        "            escreveNum += listaNum[18]+listaNum[int(numStr[1])]\n",
        "        elif num < 60:\n",
        "            escreveNum += listaNum[19]+listaNum[int(numStr[1])]\n",
        "        else:\n",
        "            if num >79 and num < 90:\n",
        "              escreveNum+= listaNum[int(numStr[0])]+\"y\"+listaNum[int(numStr[1])]\n",
        "            else:\n",
        "              escreveNum+= listaNum[int(numStr[0])]+\"ty\"+listaNum[int(numStr[1])]\n",
        "    #elif len(numStr)<4:\n",
        "\n",
        "    return escreveNum\n",
        "    "
      ],
      "execution_count": 7,
      "outputs": []
    },
    {
      "cell_type": "code",
      "metadata": {
        "id": "d1VF8zFDLfXY",
        "colab_type": "code",
        "colab": {}
      },
      "source": [
        "def writeNum(num):\n",
        "    escreveNum = \"\"\n",
        "    numStr = str(num)\n",
        "\n",
        "    numStr = \"0\"*(4-len(numStr)) + numStr\n",
        "\n",
        "    listaNum = [\"\", \"one\", \"two\", \"three\", \"four\", \"five\", \"six\", \"seven\", \"eight\", \"nine\"]\n",
        "\n",
        "    if int(numStr[0]) > 0:\n",
        "        escreveNum += listaNum[int(numStr[0])]+\"thousand\"\n",
        "    if int(numStr[1]) > 0:\n",
        "        escreveNum += listaNum[int(numStr[1])] + \"hundred\"\n",
        "\n",
        "    twoDigNum = int(numStr[2]+numStr[3])\n",
        "\n",
        "    if twoDigNum >0:\n",
        "        if int(numStr[1]) > 0:\n",
        "            escreveNum += \"and\"\n",
        "        escreveNum += writeNumtwoDig(twoDigNum)\n",
        "\n",
        "    return escreveNum\n",
        "    "
      ],
      "execution_count": null,
      "outputs": []
    },
    {
      "cell_type": "code",
      "metadata": {
        "id": "_4Uq0P28OgNK",
        "colab_type": "code",
        "colab": {
          "base_uri": "https://localhost:8080/",
          "height": 34
        },
        "outputId": "1096d7dc-3d31-4742-c1a3-a3b76c3e1e17"
      },
      "source": [
        "somaLen = 0\n",
        "for i in range(1, 1001):\n",
        "   somaLen += len(writeNum(i))\n",
        "print(somaLen)\n"
      ],
      "execution_count": 9,
      "outputs": [
        {
          "output_type": "stream",
          "text": [
            "21124\n"
          ],
          "name": "stdout"
        }
      ]
    }
  ]
}