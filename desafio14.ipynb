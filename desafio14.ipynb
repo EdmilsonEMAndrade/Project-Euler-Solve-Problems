{
  "nbformat": 4,
  "nbformat_minor": 0,
  "metadata": {
    "colab": {
      "name": "desafio14",
      "provenance": [],
      "authorship_tag": "ABX9TyPo07RZJ+nqqnqPe6UwO3ko",
      "include_colab_link": true
    },
    "kernelspec": {
      "name": "python3",
      "display_name": "Python 3"
    }
  },
  "cells": [
    {
      "cell_type": "markdown",
      "metadata": {
        "id": "view-in-github",
        "colab_type": "text"
      },
      "source": [
        "<a href=\"https://colab.research.google.com/github/EdmilsonEMAndrade/Projeto-Euler/blob/master/desafio14.ipynb\" target=\"_parent\"><img src=\"https://colab.research.google.com/assets/colab-badge.svg\" alt=\"Open In Colab\"/></a>"
      ]
    },
    {
      "cell_type": "code",
      "metadata": {
        "id": "3fNPLZ5sfbXY",
        "colab_type": "code",
        "colab": {}
      },
      "source": [
        "def collatz(n):\n",
        "  lista=[n]\n",
        "  while lista[len(lista)-1] != 1:\n",
        "    \n",
        "    if lista[len(lista)-1]%2 == 0:\n",
        "      lista.append(int(lista[len(lista)-1]/2))\n",
        "    else:\n",
        "      lista.append(int(3*lista[len(lista)-1]+1))\n",
        "  return lista\n",
        "\n",
        "def longestChain(n):\n",
        "  longest = 0\n",
        "  num = 0\n",
        "  for i in range(1,n+1):\n",
        "    \n",
        "    if len(collatz(i)) > longest:\n",
        "      longest = len(collatz(i))\n",
        "      num = i\n",
        "  return num"
      ],
      "execution_count": 31,
      "outputs": []
    },
    {
      "cell_type": "code",
      "metadata": {
        "id": "oiwWah9Si0nz",
        "colab_type": "code",
        "colab": {
          "base_uri": "https://localhost:8080/",
          "height": 34
        },
        "outputId": "2344921c-f5ba-42bf-f8da-49057db948cb"
      },
      "source": [
        "print(longestChain(1000000))"
      ],
      "execution_count": 35,
      "outputs": [
        {
          "output_type": "stream",
          "text": [
            "837799\n"
          ],
          "name": "stdout"
        }
      ]
    }
  ]
}