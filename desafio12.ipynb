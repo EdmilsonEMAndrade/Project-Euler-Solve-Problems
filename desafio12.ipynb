{
  "nbformat": 4,
  "nbformat_minor": 0,
  "metadata": {
    "colab": {
      "name": "desafio12",
      "provenance": [],
      "authorship_tag": "ABX9TyNZWGnlVWFxjIPbCasrCYBa",
      "include_colab_link": true
    },
    "kernelspec": {
      "name": "python3",
      "display_name": "Python 3"
    }
  },
  "cells": [
    {
      "cell_type": "markdown",
      "metadata": {
        "id": "view-in-github",
        "colab_type": "text"
      },
      "source": [
        "<a href=\"https://colab.research.google.com/github/EdmilsonEMAndrade/Projeto-Euler/blob/master/desafio12.ipynb\" target=\"_parent\"><img src=\"https://colab.research.google.com/assets/colab-badge.svg\" alt=\"Open In Colab\"/></a>"
      ]
    },
    {
      "cell_type": "code",
      "metadata": {
        "id": "gCXb_Y8bIb4i",
        "colab_type": "code",
        "colab": {}
      },
      "source": [
        "def triangleNumberDivisors(quantDivisores=500):\n",
        "\n",
        "  contador = 0\n",
        "  triangulo = 0\n",
        "  divisor = 1\n",
        "  \n",
        "\n",
        "  while divisor < quantDivisores:\n",
        "    divisor = 1\n",
        "    contador +=1\n",
        "    triangulo += contador\n",
        "    \n",
        "    for i in range(1,int(triangulo/2)+1):\n",
        "      if triangulo % i == 0:\n",
        "        divisor +=1\n",
        "    \n",
        "  return triangulo\n"
      ],
      "execution_count": 40,
      "outputs": []
    }
  ]
}