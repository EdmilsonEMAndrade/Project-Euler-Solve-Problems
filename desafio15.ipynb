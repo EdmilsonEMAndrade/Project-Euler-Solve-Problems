{
  "nbformat": 4,
  "nbformat_minor": 0,
  "metadata": {
    "colab": {
      "name": "desafio15",
      "provenance": [],
      "authorship_tag": "ABX9TyMhLMNxUmMO69SO9wng/HV4",
      "include_colab_link": true
    },
    "kernelspec": {
      "name": "python3",
      "display_name": "Python 3"
    }
  },
  "cells": [
    {
      "cell_type": "markdown",
      "metadata": {
        "id": "view-in-github",
        "colab_type": "text"
      },
      "source": [
        "<a href=\"https://colab.research.google.com/github/EdmilsonEMAndrade/Projeto-Euler/blob/master/desafio15.ipynb\" target=\"_parent\"><img src=\"https://colab.research.google.com/assets/colab-badge.svg\" alt=\"Open In Colab\"/></a>"
      ]
    },
    {
      "cell_type": "markdown",
      "metadata": {
        "id": "fcHkibcQpx7S",
        "colab_type": "text"
      },
      "source": [
        "#Problema de Análise Combinatória\n",
        "Quando formamos agrupamentos com p elementos, (p<m) de forma que os p elementos sejam distintos entre sí apenas pela espécie.\n",
        "\n",
        "Combinação simples: Não ocorre a repetição de qualquer elemento em cada grupo de p elementos.\n",
        "\n",
        "Fórmula: C(m,p) = m!/[(m–p)! p!]\n",
        "\n",
        "Cálculo para o exemplo: C(4,2)=4!/[2!2!]=24/4=6\n",
        "\n",
        "Exemplo: Seja C={A,B,C,D}, m=4 e p=2. As combinações simples desses 4 elementos tomados 2 a 2 são 6 grupos que não podem ter a repetição de qualquer elemento nem podem aparecer na ordem trocada. Todos os agrupamentos estão no conjunto:"
      ]
    },
    {
      "cell_type": "code",
      "metadata": {
        "id": "KRQ9isZXmh9e",
        "colab_type": "code",
        "colab": {}
      },
      "source": [
        "def fatorial(n):\n",
        "    if n == 0 or n == 1:\n",
        "        return 1 \n",
        "    else:\n",
        "        return n * fatorial(n - 1) "
      ],
      "execution_count": 1,
      "outputs": []
    },
    {
      "cell_type": "code",
      "metadata": {
        "id": "B4ZyGJLCqDum",
        "colab_type": "code",
        "colab": {}
      },
      "source": [
        "def routes(height,width):\n",
        "  \"\"\"\n",
        "  Fatoria de quantidade de passos para atravessar x-> y. \n",
        "           Em uma matriz 20x20, sair do ponto 0.0 e ir para 20.20 são 40 passos, ou seja 20 + 20\n",
        "           Em uma matriz 20x30, sair do ponto 0.0 e ir para 20.30 são 50 passos, ou seja 20 + 30\n",
        "  \"\"\"\n",
        "  fat1 = fatorial(height+width)\n",
        "  \"\"\"\n",
        "  Fatorial de quantos passos para cada direção \n",
        "          Em uma matriz 20x20, 20 passos para ↓ e 20 passos para →\n",
        "          em uma matriz 20x30, são 20 passos para ↓ ou → e 30 passos para → ou ↓, sendo o mesmo cálculo para matriz 30x20\n",
        "  \"\"\"\n",
        "  fat2 = fatorial(height) \n",
        "  fat3 = fatorial(width)\n",
        "  return int(fat1/(fat2*fat3))\n"
      ],
      "execution_count": 13,
      "outputs": []
    },
    {
      "cell_type": "code",
      "metadata": {
        "id": "Pwlf0_RRmlEf",
        "colab_type": "code",
        "colab": {
          "base_uri": "https://localhost:8080/",
          "height": 34
        },
        "outputId": "3b38f631-54e0-449d-e10f-f24d4de220e6"
      },
      "source": [
        "print(routes(20,20))"
      ],
      "execution_count": 14,
      "outputs": [
        {
          "output_type": "stream",
          "text": [
            "137846528820\n"
          ],
          "name": "stdout"
        }
      ]
    }
  ]
}