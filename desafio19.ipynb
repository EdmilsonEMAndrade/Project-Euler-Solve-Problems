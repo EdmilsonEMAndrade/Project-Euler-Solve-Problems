{
  "nbformat": 4,
  "nbformat_minor": 0,
  "metadata": {
    "colab": {
      "name": "desafio19.ipynb",
      "provenance": [],
      "authorship_tag": "ABX9TyN2T5ogOrKvLOxaJkgQL4Bu",
      "include_colab_link": true
    },
    "kernelspec": {
      "name": "python3",
      "display_name": "Python 3"
    }
  },
  "cells": [
    {
      "cell_type": "markdown",
      "metadata": {
        "id": "view-in-github",
        "colab_type": "text"
      },
      "source": [
        "<a href=\"https://colab.research.google.com/github/EdmilsonEMAndrade/Projeto-Euler/blob/master/desafio19.ipynb\" target=\"_parent\"><img src=\"https://colab.research.google.com/assets/colab-badge.svg\" alt=\"Open In Colab\"/></a>"
      ]
    },
    {
      "cell_type": "code",
      "metadata": {
        "id": "ukhZZXSW8RTe",
        "colab_type": "code",
        "colab": {
          "base_uri": "https://localhost:8080/",
          "height": 34
        },
        "outputId": "d623a937-2f62-4d27-817c-99e0804d6b33"
      },
      "source": [
        "\"\"\"\n",
        "You are given the following information, but you may prefer to do some research for yourself.\n",
        "\n",
        "1 Jan 1900 was a Monday.\n",
        "Thirty days has September,\n",
        "April, June and November.\n",
        "All the rest have thirty-one,\n",
        "Saving February alone,\n",
        "Which has twenty-eight, rain or shine.\n",
        "And on leap years, twenty-nine.\n",
        "A leap year occurs on any year evenly divisible by 4, but not on a century unless it is divisible by 400.\n",
        "How many Sundays fell on the first of the month during the twentieth century (1 Jan 1901 to 31 Dec 2000)?\n",
        "\n",
        "\"\"\"\n",
        "from datetime import date\n",
        "\n",
        "domingo=0\n",
        "for year in range(1901,2001):\n",
        "\tfor month in range(1,13):\n",
        "   #weekday() == 6 --> sunday/domingo | data(yar,month,day)\n",
        "\t\tif date(year,month,1).weekday()==6:\n",
        "\t\t\tdomingo+=1\n",
        "print (domingo)"
      ],
      "execution_count": 2,
      "outputs": [
        {
          "output_type": "stream",
          "text": [
            "171\n"
          ],
          "name": "stdout"
        }
      ]
    }
  ]
}