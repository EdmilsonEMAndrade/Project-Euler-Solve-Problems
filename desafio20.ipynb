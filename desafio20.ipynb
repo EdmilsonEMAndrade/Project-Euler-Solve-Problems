{
  "nbformat": 4,
  "nbformat_minor": 0,
  "metadata": {
    "colab": {
      "name": "desafio20.ipynb",
      "provenance": [],
      "authorship_tag": "ABX9TyOitARK+79ZuYpM6NnlandT",
      "include_colab_link": true
    },
    "kernelspec": {
      "name": "python3",
      "display_name": "Python 3"
    }
  },
  "cells": [
    {
      "cell_type": "markdown",
      "metadata": {
        "id": "view-in-github",
        "colab_type": "text"
      },
      "source": [
        "<a href=\"https://colab.research.google.com/github/EdmilsonEMAndrade/Project-Euler-Solve-Problems/blob/master/desafio20.ipynb\" target=\"_parent\"><img src=\"https://colab.research.google.com/assets/colab-badge.svg\" alt=\"Open In Colab\"/></a>"
      ]
    },
    {
      "cell_type": "code",
      "metadata": {
        "id": "3xu4M2otx_fX",
        "colab_type": "code",
        "colab": {}
      },
      "source": [
        "#Mesma função usada no desafio 15\n",
        "def fatorial(n):\n",
        "    if n == 0 or n == 1:\n",
        "        return 1 \n",
        "    else:\n",
        "        return n * fatorial(n - 1) "
      ],
      "execution_count": 2,
      "outputs": []
    },
    {
      "cell_type": "code",
      "metadata": {
        "id": "T-vbwV0myJ_6",
        "colab_type": "code",
        "colab": {
          "base_uri": "https://localhost:8080/",
          "height": 33
        },
        "outputId": "bd296083-449b-475d-cd06-b6cf4d6a4607"
      },
      "source": [
        "resultadoStr = str(fatorial(100))\n",
        "print(resultadoStr)"
      ],
      "execution_count": 12,
      "outputs": [
        {
          "output_type": "stream",
          "text": [
            "93326215443944152681699238856266700490715968264381621468592963895217599993229915608941463976156518286253697920827223758251185210916864000000000000000000000000\n"
          ],
          "name": "stdout"
        }
      ]
    },
    {
      "cell_type": "code",
      "metadata": {
        "id": "MRTngfF3yV5v",
        "colab_type": "code",
        "colab": {
          "base_uri": "https://localhost:8080/",
          "height": 33
        },
        "outputId": "418d2d19-a6fd-4e76-8ea7-cc056aba9de0"
      },
      "source": [
        "soma = 0\n",
        "for i in range(len(resultadoStr)):\n",
        "  soma += int(resultadoStr[i])\n",
        "  \n",
        "print(soma)\n"
      ],
      "execution_count": 13,
      "outputs": [
        {
          "output_type": "stream",
          "text": [
            "648\n"
          ],
          "name": "stdout"
        }
      ]
    }
  ]
}